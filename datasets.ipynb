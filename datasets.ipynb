{
 "cells": [
  {
   "cell_type": "code",
   "execution_count": 1,
   "metadata": {},
   "outputs": [],
   "source": [
    "import torch\n",
    "import torchvision \n",
    "import torchaudio\n",
    "\n",
    "import os"
   ]
  },
  {
   "cell_type": "markdown",
   "metadata": {},
   "source": [
    "# yesno"
   ]
  },
  {
   "cell_type": "code",
   "execution_count": 64,
   "metadata": {},
   "outputs": [],
   "source": [
    "# yesno\n",
    "# filename = \"waves_yesno.tar.gz\"\n",
    "# url = \"http://www.openslr.org/resources/1/\" + filename\n",
    "\n",
    "url = \"http://www.openslr.org/resources/1/waves_yesno.tar.gz\"\n",
    "filename = os.path.basename(url)\n",
    "root = \"/Users/vincentqb/yesnotest/\"\n",
    "\n",
    "inpath = root + filename\n",
    "dset_abs_path = root + \"waves_yesno/\""
   ]
  },
  {
   "cell_type": "code",
   "execution_count": 3,
   "metadata": {},
   "outputs": [
    {
     "name": "stdout",
     "output_type": "stream",
     "text": [
      "Using downloaded and verified file: /Users/vincentqb/yesnotest/waves_yesno.tar.gz\n"
     ]
    }
   ],
   "source": [
    "torchvision.datasets.utils.download_url(url, root)\n",
    "\n",
    "# torchvision.datasets.utils.extract_archive(inpath, root)  # FIXME no extraction with root\n",
    "torchvision.datasets.utils.extract_archive(inpath)"
   ]
  },
  {
   "cell_type": "raw",
   "metadata": {},
   "source": [
    "audios = [x for x in os.listdir(dset_abs_path) if \".wav\" in x]\n",
    "\n",
    "print(\"Found {} audio files\".format(len(audios)))\n",
    "\n",
    "tensors = []\n",
    "labels = []\n",
    "sample_rates = []\n",
    "lengths = []\n",
    "\n",
    "for i, f in enumerate(audios):\n",
    "            full_path = os.path.join(dset_abs_path, f)\n",
    "            sig, sr = torchaudio.load(full_path)\n",
    "            \n",
    "            tensors.append(sig)\n",
    "            sample_rates.append(sr)\n",
    "            lengths.append(sig.size(1))\n",
    "            labels.append(os.path.basename(f).split(\".\", 1)[0].split(\"_\"))\n",
    "\n",
    "# sort for consistent ordering\n",
    "tensors, labels, sample_rates = zip(*[(b, c, d) for (a, b, c, d) in sorted(zip(lengths, tensors, labels, sample_rates), key=lambda x: x[0], reverse=True)])\n",
    "\n",
    "print(tensors[0], sample_rates[0])"
   ]
  },
  {
   "cell_type": "code",
   "execution_count": 72,
   "metadata": {},
   "outputs": [
    {
     "data": {
      "text/plain": [
       "60"
      ]
     },
     "execution_count": 72,
     "metadata": {},
     "output_type": "execute_result"
    }
   ],
   "source": [
    "def iterate_yesno(dset_abs_path):\n",
    "    for f in os.listdir(dset_abs_path):\n",
    "        if \".wav\" not in f:\n",
    "            continue\n",
    "    \n",
    "        full_path = os.path.join(dset_abs_path, f)\n",
    "        waveform, sample_rate = torchaudio.load(full_path)\n",
    "        label = os.path.basename(f).split(\".\", 1)[0].split(\"_\")\n",
    "        l = sig.size(1)\n",
    "    \n",
    "        yield label, waveform, sample_rate, l\n",
    "\n",
    "g = iterate_yesno(dset_abs_path)\n",
    "\n",
    "len(list(g))"
   ]
  },
  {
   "cell_type": "markdown",
   "metadata": {},
   "source": [
    "# vctk"
   ]
  },
  {
   "cell_type": "code",
   "execution_count": 227,
   "metadata": {},
   "outputs": [],
   "source": [
    "filename1 = \"DS_10283_2651.zip\"\n",
    "filename2 = \"VCTK-Corpus.zip\"\n",
    "url = \"http://datashare.is.ed.ac.uk/download/\" + filename\n",
    "root = \"/Users/vincentqb/vctktest/\"\n",
    "\n",
    "inpath = root + filename1\n",
    "dset_abs_path = root + \"VCTK-Corpus/\""
   ]
  },
  {
   "cell_type": "code",
   "execution_count": 215,
   "metadata": {},
   "outputs": [],
   "source": [
    "# torchvision.datasets.utils.download_url(url, root)\n",
    "\n",
    "# torchvision.datasets.utils.extract_archive(inpath, root)  # FIXME no extraction with root\n",
    "torchvision.datasets.utils.extract_archive(inpath)"
   ]
  },
  {
   "cell_type": "code",
   "execution_count": 218,
   "metadata": {},
   "outputs": [],
   "source": [
    "inpath = root + filename2\n",
    "torchvision.datasets.utils.extract_archive(inpath)"
   ]
  },
  {
   "cell_type": "code",
   "execution_count": 245,
   "metadata": {},
   "outputs": [
    {
     "data": {
      "text/plain": [
       "('p304_225',\n",
       " 'I see no reason for them to be.',\n",
       " tensor([[-0.0038, -0.0046, -0.0047,  ..., -0.0019, -0.0019, -0.0017]]),\n",
       " 48000)"
      ]
     },
     "execution_count": 245,
     "metadata": {},
     "output_type": "execute_result"
    }
   ],
   "source": [
    "def iterate_vctk(root):\n",
    "    folder_txt = os.path.join(root, \"txt/\")\n",
    "    folder_wav = os.path.join(root, \"wav48/\")\n",
    "    \n",
    "    for dp, _, fn in os.walk(folder_txt):\n",
    "        for f in fn:\n",
    "            if \".txt\" not in f:\n",
    "                continue\n",
    "            \n",
    "            file_txt = os.path.join(dp, f)\n",
    "            with open(file_txt) as file_txt:\n",
    "                content = file_txt.readlines()[0]\n",
    "\n",
    "            \n",
    "            base = os.path.basename(f).split(\".\", 1)[0]\n",
    "            folder = base.split(\"_\")[0]\n",
    "            file_audio = os.path.join(folder_wav, folder, base) + \".wav\"\n",
    "            waveform, sample_rate = torchaudio.load(file_audio)\n",
    "            \n",
    "            yield base, content, waveform, sample_rate\n",
    "\n",
    "g = iterate_vctk(dset_abs_path)\n",
    "\n",
    "next(g)"
   ]
  },
  {
   "cell_type": "markdown",
   "metadata": {},
   "source": [
    "# librispeech"
   ]
  },
  {
   "cell_type": "code",
   "execution_count": 163,
   "metadata": {},
   "outputs": [],
   "source": [
    "# http://www.openslr.org/12\n",
    "    \n",
    "# http://www.openslr.org/resources/12/dev-clean.tar.gz\n",
    "# http://www.openslr.org/resources/12/test-clean.tar.gz\n",
    "# http://www.openslr.org/resources/12/test-clean.tar.gz\n",
    "# http://www.openslr.org/resources/12/test-other.tar.gz\n",
    "# http://www.openslr.org/resources/12/train-clean-100.tar.gz\n",
    "# http://www.openslr.org/resources/12/train-clean-360.tar.gz\n",
    "# http://www.openslr.org/resources/12/train-other-500.tar.gz\n",
    "\n",
    "url = \"http://www.openslr.org/resources/12/dev-clean.tar.gz\"\n",
    "root = \"/Users/vincentqb/librispeechtest/\"\n",
    "\n",
    "filename = os.path.basename(url)\n",
    "inpath = root + filename\n",
    "\n",
    "base = filename.split(\".\")[0]\n",
    "dset_abs_path = root + \"LibriSpeech/\" + base + \"/\"\n",
    "\n",
    "# torchvision.datasets.utils.download_url(url, root)\n",
    "# torchvision.datasets.utils.extract_archive(inpath)"
   ]
  },
  {
   "cell_type": "raw",
   "metadata": {},
   "source": [
    "# [os.path.join(dp, f) for dp, dn, fn in os.walk(dset_abs_path) for f in fn if \".txt\" in f]\n",
    "\n",
    "fileids = []\n",
    "flacs = []\n",
    "waveforms = []\n",
    "sample_rates = []\n",
    "\n",
    "for dp, dn, fn in os.walk(dset_abs_path):\n",
    "    for f in fn:\n",
    "        if \".txt\" not in f:\n",
    "            continue\n",
    "        \n",
    "        fp = os.path.join(dp, f)\n",
    "        for line in open(fp):\n",
    "            fileid, content = line.split(\" \", 1)\n",
    "            flac = os.path.join(dp, fileid) + \".flac\"\n",
    "            waveform, sample_rate = torchaudio.load(flac)\n",
    "            \n",
    "            fileids.append(fileid)\n",
    "            flacs.append(flac)\n",
    "            waveforms.append(waveform)\n",
    "            sample_rates.append(sample_rate)"
   ]
  },
  {
   "cell_type": "code",
   "execution_count": 206,
   "metadata": {
    "scrolled": true
   },
   "outputs": [],
   "source": [
    "def iterate_librispeech(dset_abs_path):\n",
    "    for dp, dn, fn in os.walk(dset_abs_path):\n",
    "        for f in fn:\n",
    "            if \".txt\" not in f:\n",
    "                continue\n",
    "        \n",
    "            fp = os.path.join(dp, f)\n",
    "            for line in open(fp):\n",
    "                fileid, content = line.strip().split(\" \", 1)\n",
    "                flac = os.path.join(dp, fileid) + \".flac\"\n",
    "                waveform, sample_rate = torchaudio.load(flac)\n",
    "                yield fileid, waveform, sample_rate, content\n",
    "\n",
    "g = iterate_librispeech(dset_abs_path)"
   ]
  },
  {
   "cell_type": "code",
   "execution_count": 207,
   "metadata": {},
   "outputs": [
    {
     "data": {
      "text/plain": [
       "('2412-153954-0000',\n",
       " tensor([[-3.0518e-05,  0.0000e+00,  3.0518e-05,  ..., -1.2207e-04,\n",
       "          -1.2207e-04, -9.1553e-05]]),\n",
       " 16000,\n",
       " 'SHORTLY AFTER PASSING ONE OF THESE CHAPELS WE CAME SUDDENLY UPON A VILLAGE WHICH STARTED UP OUT OF THE MIST AND I WAS ALARMED LEST I SHOULD BE MADE AN OBJECT OF CURIOSITY OR DISLIKE')"
      ]
     },
     "execution_count": 207,
     "metadata": {},
     "output_type": "execute_result"
    }
   ],
   "source": [
    "next(g)"
   ]
  },
  {
   "cell_type": "markdown",
   "metadata": {},
   "source": [
    "# CommonVoice"
   ]
  },
  {
   "cell_type": "code",
   "execution_count": 210,
   "metadata": {},
   "outputs": [],
   "source": [
    "url = \"https://voice-prod-bundler-ee1969a6ce8178826482b88e843c335139bd3fb4.s3.amazonaws.com/cv-corpus-3/tt.tar.gz\"\n",
    "root = \"/Users/vincentqb/commonvoicetest/\"\n",
    "\n",
    "filename = os.path.basename(url)\n",
    "inpath = root + filename\n",
    "\n",
    "base = filename.split(\".\")[0]\n",
    "dset_abs_path = root\n",
    "tsv = \"train.tsv\"\n",
    "\n",
    "# torchvision.datasets.utils.download_url(url, root)\n",
    "# torchvision.datasets.utils.extract_archive(inpath)"
   ]
  },
  {
   "cell_type": "raw",
   "metadata": {},
   "source": [
    "with open(\"/Users/vincentqb/commonvoicetest/clips/common_voice_tt_17343438.mp3\", mode='rb') as file:\n",
    "    fileContent = file.read()\n",
    "\n",
    "import io\n",
    "output = io.BytesIO()\n",
    "output.write(fileContent)\n",
    "torchaudio.load(output)"
   ]
  },
  {
   "cell_type": "code",
   "execution_count": 211,
   "metadata": {},
   "outputs": [
    {
     "data": {
      "text/plain": [
       "['11d5e99f7bd5b4f8492a06bb1ec22aa9110bba6ea9918f2a9adec05d686304d568ab7063daf8915d3fccfb4dd44b81646bd13a33ca130ac4014560bba4c2db0b',\n",
       " 'common_voice_tt_17343438.mp3',\n",
       " 'Баш өсте, хан хәзрәтләре.',\n",
       " '2',\n",
       " '0',\n",
       " 'thirties',\n",
       " 'male',\n",
       " tensor([[ 0.0000e+00,  0.0000e+00,  0.0000e+00,  ..., -5.3644e-06,\n",
       "          -1.7546e-06,  2.0936e-06]]),\n",
       " 48000]"
      ]
     },
     "execution_count": 211,
     "metadata": {},
     "output_type": "execute_result"
    }
   ],
   "source": [
    "def iterate_commonvoice(dset_abs_path, tsv):\n",
    "    f = os.path.join(dset_abs_path, tsv)\n",
    "    with open(f) as f:\n",
    "        next(f)\n",
    "        for line in f:\n",
    "            line = line.strip().split(\"\\t\")\n",
    "            filename = os.path.join(dset_abs_path, \"clips\", line[1])\n",
    "            # print(filename)\n",
    "            output = torchaudio.load(filename)\n",
    "\n",
    "            line.extend(output)            \n",
    "            yield line\n",
    "\n",
    "g = iterate_commonvoice(dset_abs_path, tsv)\n",
    "next(g)"
   ]
  },
  {
   "cell_type": "code",
   "execution_count": 151,
   "metadata": {},
   "outputs": [
    {
     "data": {
      "text/plain": [
       "{'tatar': 'tt.tar.gz',\n",
       " 'english': 'en.tar.gz',\n",
       " 'german': 'de.tar.gz',\n",
       " 'french': 'fr.tar.gz',\n",
       " 'welsh': 'cy.tar.gz',\n",
       " 'breton': 'br.tar.gz',\n",
       " 'chuvash': 'cv.tar.gz',\n",
       " 'turkish': 'tr.tar.gz',\n",
       " 'kyrgyz': 'ky.tar.gz',\n",
       " 'irish': 'ga-IE.tar.gz',\n",
       " 'kabyle': 'kab.tar.gz',\n",
       " 'catalan': 'ca.tar.gz',\n",
       " 'tawan': 'zh-TW.tar.gz',\n",
       " 'slovenian': 'sl.tar.gz',\n",
       " 'italian': 'it.tar.gz',\n",
       " 'dutch': 'nl.tar.gz',\n",
       " 'hakha chin': 'cnh.tar.gz',\n",
       " 'esperanto': 'eo.tar.gz',\n",
       " 'estonian': 'et.tar.gz',\n",
       " 'persian': 'fa.tar.gz',\n",
       " 'basque': 'eu.tar.gz',\n",
       " 'spanish': 'es.tar.gz',\n",
       " 'chinese': 'zh-CN.tar.gz',\n",
       " 'mongolian': 'mn.tar.gz',\n",
       " 'sakha': 'sah.tar.gz',\n",
       " 'dhivehi': 'dv.tar.gz',\n",
       " 'kinyarwanda': 'rw.tar.gz',\n",
       " 'swedish': 'sv-SE.tar.gz',\n",
       " 'russian': 'ru.tar.gz'}"
      ]
     },
     "execution_count": 151,
     "metadata": {},
     "output_type": "execute_result"
    }
   ],
   "source": [
    "web = \"https://voice-prod-bundler-ee1969a6ce8178826482b88e843c335139bd3fb4.s3.amazonaws.com/cv-corpus-3/\"\n",
    "\n",
    "{\n",
    "    \"tatar\": \"tt.tar.gz\",\n",
    "    \"english\": \"en.tar.gz\",\n",
    "    \"german\": \"de.tar.gz\",\n",
    "    \"french\": \"fr.tar.gz\",\n",
    "    \"welsh\": \"cy.tar.gz\",\n",
    "    \"breton\": \"br.tar.gz\",\n",
    "    \"chuvash\": \"cv.tar.gz\",\n",
    "    \"turkish\": \"tr.tar.gz\",\n",
    "    \"kyrgyz\": \"ky.tar.gz\",\n",
    "    \"irish\": \"ga-IE.tar.gz\",\n",
    "    \"kabyle\": \"kab.tar.gz\",\n",
    "    \"catalan\": \"ca.tar.gz\",\n",
    "    \"tawan\": \"zh-TW.tar.gz\",\n",
    "    \"slovenian\": \"sl.tar.gz\",\n",
    "    \"italian\": \"it.tar.gz\",\n",
    "    \"dutch\": \"nl.tar.gz\",\n",
    "    \"hakha chin\": \"cnh.tar.gz\",\n",
    "    \"esperanto\": \"eo.tar.gz\",\n",
    "    \"estonian\": \"et.tar.gz\",\n",
    "    \"persian\": \"fa.tar.gz\",\n",
    "    \"basque\": \"eu.tar.gz\",\n",
    "    \"spanish\": \"es.tar.gz\",\n",
    "    \"chinese\": \"zh-CN.tar.gz\",\n",
    "    \"mongolian\": \"mn.tar.gz\",\n",
    "    \"sakha\": \"sah.tar.gz\",\n",
    "    \"dhivehi\": \"dv.tar.gz\",\n",
    "    \"kinyarwanda\": \"rw.tar.gz\",\n",
    "    \"swedish\": \"sv-SE.tar.gz\",\n",
    "    \"russian\": \"ru.tar.gz\",\n",
    "}"
   ]
  }
 ],
 "metadata": {
  "kernelspec": {
   "display_name": "Python 3",
   "language": "python",
   "name": "python3"
  },
  "language_info": {
   "codemirror_mode": {
    "name": "ipython",
    "version": 3
   },
   "file_extension": ".py",
   "mimetype": "text/x-python",
   "name": "python",
   "nbconvert_exporter": "python",
   "pygments_lexer": "ipython3",
   "version": "3.7.4"
  }
 },
 "nbformat": 4,
 "nbformat_minor": 2
}
